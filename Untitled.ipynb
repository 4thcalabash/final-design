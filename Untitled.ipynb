{
 "cells": [
  {
   "cell_type": "code",
   "execution_count": 2,
   "metadata": {},
   "outputs": [],
   "source": [
    "import sys\n",
    "import os"
   ]
  },
  {
   "cell_type": "code",
   "execution_count": 7,
   "metadata": {},
   "outputs": [],
   "source": [
    "t='com.example.myapplication.MainActivity'"
   ]
  },
  {
   "cell_type": "code",
   "execution_count": 8,
   "metadata": {},
   "outputs": [],
   "source": [
    "list = t.split('.')"
   ]
  },
  {
   "cell_type": "code",
   "execution_count": 10,
   "metadata": {},
   "outputs": [],
   "source": [
    "length = len(list[len(list)-1])"
   ]
  },
  {
   "cell_type": "code",
   "execution_count": 13,
   "metadata": {},
   "outputs": [],
   "source": [
    "tt = t[0:len(t)-length-1]"
   ]
  },
  {
   "cell_type": "code",
   "execution_count": 14,
   "metadata": {},
   "outputs": [
    {
     "data": {
      "text/plain": [
       "'com.example.myapplication'"
      ]
     },
     "execution_count": 14,
     "metadata": {},
     "output_type": "execute_result"
    }
   ],
   "source": [
    "tt"
   ]
  },
  {
   "cell_type": "code",
   "execution_count": 22,
   "metadata": {},
   "outputs": [],
   "source": [
    "from xml.dom.minidom import parse\n",
    "import sys\n",
    "import os\n",
    "def get_exported_services(xml_path):\n",
    "    domTree = parse(xml_path)\n",
    "    manifest = domTree.documentElement\n",
    "    services = manifest.getElementsByTagName('service')\n",
    "    exported_services = [];\n",
    "    for service in services:\n",
    "        if (service.getAttribute('android:exported') == 'true'):\n",
    "            exported_services.append(service.getAttribute('android:name'))\n",
    "    activities = manifest.getElementsByTagName('activity')\n",
    "    main_activity = []\n",
    "    for activity in activities:\n",
    "        actions = activity.getElementsByTagName('action')\n",
    "        count = 0\n",
    "        for action in actions:\n",
    "            if action.getAttribute('android:name') == 'android.intent.action.MAIN':\n",
    "                count = count | 1\n",
    "        categories = activity.getElementsByTagName('category')\n",
    "        for category in categories:\n",
    "            if (category.getAttribute('android:name') == 'android.intent.category.LAUNCHER'):\n",
    "                count = count | 2\n",
    "        if (count == 3):\n",
    "            main_activity.append(activity.getAttribute('android:name'))\n",
    "    package_name = manifest.getAttribute('package')\n",
    "    return [package_name,exported_services,main_activity]\n",
    "\n",
    "\n"
   ]
  },
  {
   "cell_type": "code",
   "execution_count": 23,
   "metadata": {},
   "outputs": [
    {
     "data": {
      "text/plain": [
       "['com.smile.gifmaker',\n",
       " ['com.yxcorp.gifshow.push.PushService',\n",
       "  'com.yxcorp.gifshow.keepalive.MIUIAlarmService',\n",
       "  'com.yxcorp.gifshow.keepalive.MIUIAlarmJobService',\n",
       "  'com.kwai.video.editorsdk2.ExportTaskRemoteService',\n",
       "  'com.kwai.video.editorsdk2.ThumbnailRemoteService',\n",
       "  'com.yxcorp.gifshow.service.EncodeBenchmarkService',\n",
       "  'com.coloros.mcssdk.PushService',\n",
       "  'com.vivo.push.sdk.service.CommandClientService',\n",
       "  'com.xiaomi.mipush.sdk.PushMessageHandler',\n",
       "  'com.meizu.cloud.pushsdk.NotificationService'],\n",
       " ['com.yxcorp.gifshow.HomeActivity']]"
      ]
     },
     "execution_count": 23,
     "metadata": {},
     "output_type": "execute_result"
    }
   ],
   "source": [
    "get_exported_services('temp/AndroidManifest.xml')"
   ]
  },
  {
   "cell_type": "code",
   "execution_count": null,
   "metadata": {},
   "outputs": [],
   "source": []
  }
 ],
 "metadata": {
  "kernelspec": {
   "display_name": "Python 3",
   "language": "python",
   "name": "python3"
  },
  "language_info": {
   "codemirror_mode": {
    "name": "ipython",
    "version": 3
   },
   "file_extension": ".py",
   "mimetype": "text/x-python",
   "name": "python",
   "nbconvert_exporter": "python",
   "pygments_lexer": "ipython3",
   "version": "3.7.3"
  }
 },
 "nbformat": 4,
 "nbformat_minor": 4
}
